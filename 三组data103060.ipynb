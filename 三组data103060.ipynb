{
 "cells": [
  {
   "cell_type": "code",
   "execution_count": 3,
   "metadata": {},
   "outputs": [
    {
     "name": "stdout",
     "output_type": "stream",
     "text": [
      "  所属同花顺二级行业  10比例  30比例  60比例  30比例-10比例  30比例-60比例  30比例+60比例  30比例+60比例-10比例\n",
      "0      其他电子  27.0  39.0  24.0       12.0       15.0       64.0            36.0\n",
      "1    半导体及元件  31.0  48.0  16.0       17.0       32.0       64.0            33.0\n",
      "2      通用设备  35.0  38.0  30.0        3.0        8.0       67.0            33.0\n",
      "3     光学光电子  32.0  35.0  24.0        2.0       11.0       59.0            26.0\n",
      "4      通信设备  13.0  24.0  14.0       12.0       11.0       38.0            25.0\n",
      "5      专用设备  31.0  38.0  16.0        6.0       21.0       54.0            22.0\n",
      "6        中药  26.0  29.0   9.0        3.0       21.0       38.0            12.0\n",
      "  所属同花顺二级行业  30比例+60比例-10比例\n",
      "0      其他电子            36.0\n",
      "1    半导体及元件            33.0\n",
      "2      通用设备            33.0\n",
      "3     光学光电子            26.0\n",
      "4      通信设备            25.0\n",
      "5      专用设备            22.0\n",
      "6        中药            12.0\n"
     ]
    }
   ],
   "source": [
    "import pandas as pd\n",
    "\n",
    "df=pd.read_excel('11月19日的收盘价大于10日线且10日线向上，所属同花顺二级行业.xlsx',usecols=[1,10])\n",
    "df=df.groupby(\"所属同花顺二级行业\").count()\n",
    "df=df.rename(columns={\"股票简称\":\"10多头数量\"})\n",
    "df1=pd.read_excel('11月19日的收盘价大于30日线且30日线向上，所属同花顺二级行业.xlsx',usecols=[1,10])\n",
    "df1=df1.groupby(\"所属同花顺二级行业\").count()\n",
    "df1=df1.rename(columns={\"股票简称\":\"30多头数量\"})\n",
    "df2=pd.read_excel('11月19日的收盘价大于60日线且60日线向上，所属同花顺二级行业.xlsx',usecols=[1,10])\n",
    "df2=df2.groupby(\"所属同花顺二级行业\").count()\n",
    "df2=df2.rename(columns={\"股票简称\":\"60多头数量\"})\n",
    "\n",
    "\n",
    "df5 = pd.read_csv(open('行业库.csv', encoding='gbk'))\n",
    "\n",
    "df6=pd.merge(df,df1,on=[\"所属同花顺二级行业\"])\n",
    "df6=pd.merge(df6,df2,on=[\"所属同花顺二级行业\"])\n",
    "df6=pd.merge(df6,df5,on=[\"所属同花顺二级行业\"])\n",
    "\n",
    "df6['10比例'] = df6['10多头数量'] /df6['个股总数']*100\n",
    "df6['30比例'] = df6['30多头数量'] /df6['个股总数']*100\n",
    "df6['60比例'] = df6['60多头数量'] /df6['个股总数']*100\n",
    "\n",
    "\n",
    "df6['30比例-10比例'] = df6['30比例'] - df6['10比例']\n",
    "df6['30比例-60比例'] = df6['30比例'] - df6['60比例']\n",
    "df6['30比例+60比例'] = df6['30比例'] + df6['60比例']\n",
    "df6['30比例+60比例-10比例'] = df6['30比例'] + df6['60比例']-df6['10比例']\n",
    "#筛选条件如下\n",
    "df6=df6[df6['个股总数']>25]\n",
    "df6=df6[df6['30比例-60比例']>0]#确定开始多头排列\n",
    "df6=df6[df6['30比例+60比例']>20]#确定开始多头排列\n",
    "df6=df6[df6['30比例-10比例']>0]#确定开始多头排列\n",
    "df6=df6[df6['30比例+60比例-10比例']<40]#确定是处于初期\n",
    "df6=df6[df6['10比例']<40]#确定开始多头排列\n",
    "\n",
    "df6=df6.round(0)\n",
    "df6=df6.drop(df6.columns[[1,2,3,4,]],axis=1)\n",
    "df6=df6.sort_values(by=[\"30比例+60比例-10比例\"],ascending=False)#ascending=False\n",
    "df6=df6.reset_index(drop=True)\n",
    "# df6.to_csv('a.csv')\n",
    "print(df6)\n",
    "df6=df6.drop(df6.columns[[1,2,3,4,5,6]],axis=1)\n",
    "print(df6)\n",
    "#11月17日半导体下午拉升使得10日线比例从中午的11%上升到收盘的32%，因此只有在中午休息的时候查询才能看到半导体的机会\n",
    "\n",
    "\n"
   ]
  },
  {
   "cell_type": "code",
   "execution_count": 4,
   "metadata": {},
   "outputs": [],
   "source": [
    "# "
   ]
  },
  {
   "cell_type": "code",
   "execution_count": null,
   "metadata": {},
   "outputs": [],
   "source": []
  },
  {
   "cell_type": "code",
   "execution_count": null,
   "metadata": {},
   "outputs": [],
   "source": []
  }
 ],
 "metadata": {
  "kernelspec": {
   "display_name": "Python 3",
   "language": "python",
   "name": "python3"
  },
  "language_info": {
   "codemirror_mode": {
    "name": "ipython",
    "version": 3
   },
   "file_extension": ".py",
   "mimetype": "text/x-python",
   "name": "python",
   "nbconvert_exporter": "python",
   "pygments_lexer": "ipython3",
   "version": "3.7.0"
  }
 },
 "nbformat": 4,
 "nbformat_minor": 4
}
